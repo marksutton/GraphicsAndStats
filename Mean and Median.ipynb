{
 "metadata": {
  "celltoolbar": "Raw Cell Format",
  "name": "",
  "signature": "sha256:fb186232d3b4d69e1c86e3cf99c778e90f6be74c675929a68a9c39263372c944"
 },
 "nbformat": 3,
 "nbformat_minor": 0,
 "worksheets": [
  {
   "cells": [
    {
     "cell_type": "heading",
     "level": 1,
     "metadata": {
      "slideshow": {
       "slide_type": "slide"
      }
     },
     "source": [
      "Mean and Median example"
     ]
    },
    {
     "cell_type": "code",
     "collapsed": false,
     "input": [
      "from numpy import *         #stats module doesn't have mean!! Import this from numpy\n",
      "from scipy.stats import *   #import all stats functions from scipy.stats \u2013 not \n",
      "                            #actually needed here, but will be for other programs\n",
      "\n",
      "infile = open (\"Porosity.csv\",\"r\")    #open my data file\n",
      "\n",
      "headerline=infile.readline()          #read headings\n",
      "lines=infile.readlines()              #read all other lines into a list of strings\n",
      "infile.close()\n",
      "\n",
      "labels=[]                             #set up arrays - append doesn't work\n",
      "values=[]                             #unless we already have an empty array to work with\n",
      "\n",
      "for line in lines:          # for each line\n",
      "    data=line.split(',')              #split line on comma into a list \n",
      "    labels.append(data[0])            #store first item (the label)\n",
      "    values.append(float(data[1]))     #store 2nd item (value) after converting to a number\n",
      "\n",
      "print \"Raw values: \", values    #output values themselves - not essential, but helpful\n",
      "\n",
      "                                #Now compute some averages\n",
      "mean_value=mean(values)         #mean function from numpy\n",
      "median_value=median(values)     #median function aslso from numpy\n",
      "\n",
      "                                #and output the results to one decimal place\n",
      "print \"Mean: %.1f   Median: %.1f\" % (mean_value, median_value)\n"
     ],
     "language": "python",
     "metadata": {
      "slideshow": {
       "slide_type": "slide"
      }
     },
     "outputs": [
      {
       "output_type": "stream",
       "stream": "stdout",
       "text": [
        "Raw values:  [21.4, 20.2, 28.4, 30.3, 33.6, 34.3, 33.6, 30.7, 28.2, 38.4, 23.3, 23.3, 39.3]\n",
        "Mean: 29.6   Median: 30.3\n"
       ]
      }
     ],
     "prompt_number": 52
    },
    {
     "cell_type": "code",
     "collapsed": false,
     "input": [],
     "language": "python",
     "metadata": {},
     "outputs": []
    }
   ],
   "metadata": {}
  }
 ]
}