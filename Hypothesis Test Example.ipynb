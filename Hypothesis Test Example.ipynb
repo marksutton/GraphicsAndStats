{
 "metadata": {
  "name": "",
  "signature": "sha256:a11fe95cc034847e5cae418cbea74cc2bcb712177d725d12d3f2e1fe8a383801"
 },
 "nbformat": 3,
 "nbformat_minor": 0,
 "worksheets": [
  {
   "cells": [
    {
     "cell_type": "code",
     "collapsed": false,
     "input": [
      "\n",
      "from scipy.stats import *\n",
      "\n",
      "infile = open (\"first_year_marks.csv\",\"r\") \t\n",
      "headerline=infile.readline()     # read headings\n",
      "lines=infile.readlines()         # read all other lines into a list of strings\n",
      "infile.close()\n",
      "\n",
      "fieldmarks=[]                    # set up arrays \n",
      "yearmarks=[]\n",
      "\n",
      "for line in lines:               # for each line\n",
      "    data=line.split(',')                    # split line on comma into a list \n",
      "    fieldmarks.append(float(data[0]))       # store first item (the fieldwork mark)\n",
      "    yearmarks.append(float(data[1]))        # store 2nd item (overall year mark)\n",
      "\n",
      "\n",
      "z_year, p_year = normaltest(yearmarks) \t# run D'agostino & Pearson normality test on \n",
      "                                        # yearmarks, record the z score and p-value\n",
      "\n",
      "z_field, p_field  = normaltest(fieldmarks)    # and for fieldmarks\n",
      "\n",
      "                #Output the results\n",
      "\n",
      "print \"H0 - marks are normally distributed\"\n",
      "print \"H1 - at least one set of marks is not normally distributed\"\n",
      "print \"Test is two-tailed, using significance level of 5% for each distribution\"\n",
      "\n",
      "print \"Probability of overall year marks distribution being normal: %.3f\" % (p_year)\n",
      "print \"Probability of Dorset field marks distribution being normal: %.3f\" % (p_field)\n",
      "\n",
      "if (p_year>0.05 and p_field>0.05):             # check \u2013 are both probably normal?\n",
      "    print \"Both distriubutions apparently normal - accept H0 - use Pearsons Correlation\"\n",
      "    r,p = pearsonr(yearmarks,fieldmarks)       # calculate using Pearson\n",
      "\n",
      "else:                                   # i.e. one at least not normally distributed\n",
      "    print \"At least one distribution not normal - reject H0, accept H1 - use Spearmans Correlation\"\n",
      "    r,p = spearmanr(yearmarks,fieldmarks)     # calculate using Spearman\n",
      "\n",
      "print \"Correlation coefficient r: %.3f\" % (r) # output r and p\n",
      "print \"Two-tailed probability of correlation coming about by chance: %.3f\" % (p)\n"
     ],
     "language": "python",
     "metadata": {},
     "outputs": [
      {
       "output_type": "stream",
       "stream": "stdout",
       "text": [
        "H0 - marks are normally distributed\n",
        "H1 - at least one set of marks is not normally distributed\n",
        "Test is two-tailed, using significance level of 5% for each distribution\n",
        "Probability of overall year marks distribution being normal: 0.980\n",
        "Probability of Dorset field marks distribution being normal: 0.003\n",
        "At least one distribution not normal - reject H0, accept H1 - use Spearmans Correlation\n",
        "Correlation coefficient r: 0.190\n",
        "Two-tailed probability of correlation coming about by chance: 0.087\n"
       ]
      }
     ],
     "prompt_number": 1
    },
    {
     "cell_type": "code",
     "collapsed": false,
     "input": [],
     "language": "python",
     "metadata": {},
     "outputs": []
    }
   ],
   "metadata": {}
  }
 ]
}